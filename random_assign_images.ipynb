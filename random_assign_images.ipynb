{
 "cells": [
  {
   "cell_type": "code",
   "execution_count": null,
   "metadata": {},
   "outputs": [],
   "source": [
    "import os\n",
    "import shutil\n",
    "import random\n",
    "\n",
    "def split_data(source_dir, train_dir, test_dir, split_ratio=0.8):\n",
    "    # Create directories if they don't exist\n",
    "    os.makedirs(train_dir, exist_ok=True)\n",
    "    os.makedirs(test_dir, exist_ok=True)\n",
    "    \n",
    "    # List all files in the source directory\n",
    "    all_files = [f for f in os.listdir(source_dir) if os.path.isfile(os.path.join(source_dir, f))]\n",
    "    \n",
    "    # Shuffle and split the files\n",
    "    random.shuffle(all_files)\n",
    "    split_point = int(len(all_files) * split_ratio)\n",
    "    train_files = all_files[:split_point]\n",
    "    test_files = all_files[split_point:]\n",
    "    \n",
    "    # Copy files to the train and test directories\n",
    "    for file in train_files:\n",
    "        shutil.copy(os.path.join(source_dir, file), os.path.join(train_dir, file))\n",
    "        \n",
    "    for file in test_files:\n",
    "        shutil.copy(os.path.join(source_dir, file), os.path.join(test_dir, file))\n",
    "\n",
    "    print(f\"Training set: {len(train_files)} images\")\n",
    "    print(f\"Testing set: {len(test_files)} images\")\n",
    "\n",
    "# Usage example:\n",
    "source_folder = 'Training/4Severe'\n",
    "train_folder = 'Training/train/4'\n",
    "test_folder = 'Training/test/4'\n",
    "split_data(source_folder, train_folder, test_folder)"
   ]
  }
 ],
 "metadata": {
  "kernelspec": {
   "display_name": "venv-3.12",
   "language": "python",
   "name": "python3"
  },
  "language_info": {
   "name": "python",
   "version": "3.8.10"
  }
 },
 "nbformat": 4,
 "nbformat_minor": 2
}
